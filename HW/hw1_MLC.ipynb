{
 "cells": [
  {
   "cell_type": "markdown",
   "metadata": {},
   "source": [
    "#### Homework 1 - Python Camp 2023\n",
    "## M Leticia Claro\n",
    "\n",
    "Your goal is to build a piece of software for a financial institution to model one of their clients’ portfolios. A portfolio can consist of 3 types of items:\n",
    "- Cash can be added to a portfolio, removed from a portfolio or used to buy stocks/mutual funds.\n",
    "- Stock can be purchased with existing cash in the portfolio, or sold (adding cash to the portfolio). Note that stocks can only be purchased or sold as whole units. Stocks have a price and ticker symbol. For simplicity’s sake,\n",
    "Stocks can be purchased for $X/share and when sold are sold for a price that is uniformly drawn from [0.5X-1.5X]\n",
    "- Mutual Funds can be purchased with existing cash in the portfolio, or sold (adding cash to the portfolio). Note that mutual funds can only be purchased as fractional shares. Mutual funds have a price and ticker symbol. For simplicity’s sake, Mutual funds can be purchased for $1/share and when sold are sold for a price that is uniformly drawn from [0.9-1.2] Your program must facilitate managing the correct balance of cash, stocks and mutual funds as the user buys and sells items. Assume that the person using your library will specify the correct buy price so you can trust it and just need to maintain a proper internal state given the specified buy price (and then compute\n",
    "some sell price using the above formulas). Finally, in order to help with customer service your portfolio software needs to keep an audit log of all transactions and make them available to users of your program."
   ]
  },
  {
   "cell_type": "code",
   "execution_count": 52,
   "metadata": {},
   "outputs": [],
   "source": [
    "#Class portfolio \n",
    "class Portfolio:\n",
    "    #initiator\n",
    "    def __init__(self, balance):\n",
    "        self.balance = balance\n",
    "\n",
    "    #Creates an instance methods to calculate cash adition    \n",
    "    def addCash(self, cash):\n",
    "        self.balance += cash\n",
    "        #print(f\"${self.balance}\")\n",
    "    \n",
    "    #Creates an instance methods to calculate cash withdraw \n",
    "    def withdrawCash(self, cash):\n",
    "        self.balance -= cash\n",
    "        #print(f\"${self.balance}\")    \n",
    "    \n",
    "    #Creates an instance methods to calculate stock purchase \n",
    "    def buyStock(self, amount, s):\n",
    "        self.balance -= (amount*s.price)\n",
    "        print(self.balance)\n",
    "\n",
    "    #Creates an instance methods to  list purchases\n",
    "    def history(self, mf1, mf2, s):\n",
    "    \n",
    "\n",
    "#Class stock receives data about sotck prices and symbol\n",
    "class Stock:\n",
    "    def __init__(self, price, symbol):\n",
    "        self.price = price\n",
    "        self.symbol= symbol\n",
    "        #print(self.price, self.symbol)\n",
    "\n",
    "#Class mutual funds receives data about mutual funds symbol\n",
    "class MutualFunds:\n",
    "    def __init__(self, symbolMF):\n",
    "        self.symbolMF= symbolMF\n",
    "        #print(self.symbolMF)\n"
   ]
  },
  {
   "cell_type": "code",
   "execution_count": 53,
   "metadata": {},
   "outputs": [
    {
     "name": "stdout",
     "output_type": "stream",
     "text": [
      "2545.5\n"
     ]
    }
   ],
   "source": [
    "portfolio = Portfolio(2345)\n",
    "portfolio.addCash(300.50)\n",
    "# client_1.withdrawCash(3000)\n",
    "\n",
    "s= Stock(20, \"HFH\")\n",
    "#mf1= MutualFunds(\"BRT\")\n",
    "portfolio.buyStock(5, s) "
   ]
  },
  {
   "cell_type": "code",
   "execution_count": null,
   "metadata": {},
   "outputs": [],
   "source": [
    "# You can implement this software however you wish, but a consumer of the application must at a minimum be able to do the following:\n",
    "portfolio = Portfolio() #Creates a new portfolio\n",
    "portfolio.addCash(300.50) #Adds cash to the portfolio - done\n",
    "s = Stock(20, \"HFH\") #Create Stock with price 20 and symbol \"HFH\" - done\n",
    "portfolio.buyStock(5, s) #Buys 5 shares of stock s - done\n",
    "mf1 = MutualFund(\"BRT\") #Create MF with symbol \"BRT\" - done\n",
    "mf2 = MutualFund(\"GHT\") #Create MF with symbol \"GHT\"\n",
    "portfolio.buyMutualFund(10.3, mf1) #Buys 10.3 shares of \"BRT\"\n",
    "portfolio.buyMutualFund(2, mf2) #Buys 2 shares of \"GHT\"\n",
    "print(portfolio) #Prints portfolio\n",
    "#cash: $140.50\n",
    "#stock: 5 HFH\n",
    "# mutual funds: 10.33 BRT\n",
    "#               2 GHT\n",
    "portfolio.sellMutualFund(\"BRT\", 3) #Sells 3 shares of BRT\n",
    "portfolio.sellStock(\"HFH\", 1) #Sells 1 share of HFH\n",
    "portfolio.withdrawCash(50) #Removes $50\n",
    "portfolio.history() #Prints a list of all transactions\n",
    "#ordered by time"
   ]
  }
 ],
 "metadata": {
  "kernelspec": {
   "display_name": "Python 3",
   "language": "python",
   "name": "python3"
  },
  "language_info": {
   "codemirror_mode": {
    "name": "ipython",
    "version": 3
   },
   "file_extension": ".py",
   "mimetype": "text/x-python",
   "name": "python",
   "nbconvert_exporter": "python",
   "pygments_lexer": "ipython3",
   "version": "3.11.4"
  },
  "orig_nbformat": 4
 },
 "nbformat": 4,
 "nbformat_minor": 2
}
