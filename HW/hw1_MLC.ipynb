{
 "cells": [
  {
   "cell_type": "markdown",
   "metadata": {},
   "source": [
    "#### Homework 1 - Python Camp 2023\n",
    "## M Leticia Claro\n",
    "\n",
    "Your goal is to build a piece of software for a financial institution to model one of their clients’ portfolios. A portfolio can consist of 3 types of items:\n",
    "- Cash can be added to a portfolio, removed from a portfolio or used to buy stocks/mutual funds.\n",
    "- Stock can be purchased with existing cash in the portfolio, or sold (adding cash to the portfolio). Note that stocks can only be purchased or sold as whole units. Stocks have a price and ticker symbol. For simplicity’s sake, Stocks can be purchased for $X/share and when sold are sold for a price that is uniformly drawn from [0.5X-1.5X]\n",
    "- Mutual Funds can be purchased with existing cash in the portfolio, or sold (adding cash to the portfolio). Note that mutual funds can only be purchased as fractional shares. Mutual funds have a price and ticker symbol. For simplicity’s sake, Mutual funds can be purchased for $1/share and when sold are sold for a price that is uniformly drawn from [0.9-1.2] Your program must facilitate managing the correct balance of cash, stocks and mutual funds as the user buys and sells items. Assume that the person using your library will specify the correct buy price so you can trust it and just need to maintain a proper internal state given the specified buy price (and then compute some sell price using the above formulas). Finally, in order to help with customer service your portfolio software needs to keep an audit log of all transactions and make them available to users of your program.\n",
    "\n"
   ]
  },
  {
   "cell_type": "code",
   "execution_count": null,
   "metadata": {},
   "outputs": [],
   "source": [
    "# # # You can implement this software however you wish, but a consumer of the application must at a minimum be able to do the following:\n",
    "# portfolio = Portfolio() #Creates a new portfolio\n",
    "# portfolio.addCash(300.50) #Adds cash to the portfolio - done\n",
    "# portfolio.addCash(0.50) #Adds cash to the portfolio - done\n",
    "# s = Stock(20, \"HFH\") #Create Stock with price 20 and symbol \"HFH\" - done\n",
    "# portfolio.buyStock(5.5, s) #Buys 5 shares of stock s - done\n",
    "# mf1 = MutualFund(\"BRT\") #Create MF with symbol \"BRT\" - done\n",
    "# mf2 = MutualFund(\"GHT\") #Create MF with symbol \"GHT\" -done\n",
    "# portfolio.buyMutualFund(10.3, mf1) #Buys 10.3 shares of \"BRT\" -done\n",
    "# portfolio.buyMutualFund(2, mf2) #Buys 2 shares of \"GHT\"\n",
    "# print(portfolio) #Prints portfolio\n",
    "# # #cash: $140.50\n",
    "# # #stock: 5 HFH\n",
    "# # # mutual funds: 10.33 BRT\n",
    "# # #               2 GHT\n",
    "# portfolio.sellMutualFund(\"BRT\", 3) #Sells 3 shares of BRT -done\n",
    "# portfolio.sellStock(\"HFH\",1) #Sells 1 share of HFH -done\n",
    "# portfolio.withdrawCash(50) #Removes $50 -done\n",
    "# portfolio.history() #Prints a list of all transactions\n",
    "# #ordered by time\"\"\"  \"\"\""
   ]
  },
  {
   "cell_type": "code",
   "execution_count": 362,
   "metadata": {},
   "outputs": [],
   "source": [
    "import random\n",
    "\n",
    "#Class portfolio \n",
    "class Portfolio:\n",
    "    #initiator\n",
    "    def __init__(self):\n",
    "        self.balance = 0\n",
    "        self.stocks= []\n",
    "        self.mutualfunds= []\n",
    "        self.hist=[]\n",
    "    \n",
    "    #Creates an instance methods to calculate cash adition    \n",
    "    def addCash(self, cash):\n",
    "        self.balance += cash\n",
    "        self.hist.append(\"You added \"+f\"${cash}\" + \" \" +\"to your balance\")\n",
    "        #print(f\"${self.balance}\")\n",
    "    \n",
    "    #Creates an instance methods to calculate cash withdraw \n",
    "    def withdrawCash(self, cash):\n",
    "        try:\n",
    "            if self.balance> cash:\n",
    "                self.balance -= cash\n",
    "                self.hist.append(\"You withdraw \"+f\"${cash}\" + \" \" +\"from your balance\")\n",
    "            else:\n",
    "                print(\"No enough balance\")\n",
    "        except TypeError:\n",
    "            print(\"You didn't enter a number.\")    \n",
    "    \n",
    "    #Creates an instance methods to calculate stock purchase \n",
    "    def buyStock(self, amount, Stock):\n",
    "        try:\n",
    "            if amount % 1 == 0:\n",
    "                purchase = amount*Stock.price\n",
    "                if self.balance> purchase:\n",
    "                    self.balance -= (amount*Stock.price)\n",
    "                    Stock.totalstck +=amount\n",
    "                    self.hist.append(\"You added to your portfolio the stock\"+ \" \" + Stock.symbol +  \" \" +\"for\" + \" \" + f\"${Stock.price}/share\")\n",
    "                    self.stocks.append(f\"{amount}\"+Stock.symbol)\n",
    "                else:\n",
    "                    print(\"No enough balance\")\n",
    "            else:\n",
    "                print(\"Please, enter the number of whole units\")\n",
    "        except TypeError:\n",
    "            print(\"Please, enter first the amount followed by the stocks's name\")\n",
    "\n",
    "        #print(f\"${self.balance}\")\n",
    "    \n",
    "    #Creates an instance methods to calculate stock sale \n",
    "    def sellStock(self, symbol, amount):\n",
    "        try:\n",
    "            if amount % 1 == 0:\n",
    "                self.symbol=symbol\n",
    "                self.randomprice=random.uniform(0.5, 1.5)\n",
    "                self.balance += (amount*self.randomprice)\n",
    "                #Stock.totalstck -=amount\n",
    "                self.hist.append(\"You sold the stock\"+ \" \" + self.symbol +  \" \" +\"for\" + \" \" + f\"${self.randomprice}/share\")\n",
    "            else:\n",
    "                print(\"Please, enter the number of whole units\")        \n",
    "        except TypeError:\n",
    "            print(\"Please, enter first the stocks's name followed by the amount\")\n",
    "        \n",
    "    #Creates an instance methods to calculate stock purchase \n",
    "    def buyMutualFund(self, amount, MutualFund):\n",
    "        try:\n",
    "            if amount % 1 != 0:\n",
    "                purchase =amount*MutualFund.randomprice\n",
    "                if self.balance > purchase:\n",
    "                    self.balance -= (amount*MutualFund.randomprice)\n",
    "                    self.hist.append(\"You added to your portfolio the Mutual Fund\"+ \" \" + MutualFund.symbolMF +  \" \" +\"for\" + \" \" + f\"${MutualFund.randomprice}/share\")\n",
    "                    self.mutualfunds.append(f\"{amount}\"+MutualFund.symbolMF)\n",
    "                else:\n",
    "                    print(\"No enough balance\")\n",
    "            else:\n",
    "                print(\"Please, enter the share of units\") \n",
    "            #print(f\"${self.balance}\")\n",
    "        except TypeError:\n",
    "            print(\"Please, enter the mutual fund's name followed by the amount\")\n",
    "        #print(f\"${self.balance}\")\n",
    "    \n",
    "    # #Creates an instance methods to calculate stock purchase \n",
    "    def sellMutualFund(self, symbol, amount):\n",
    "        try:\n",
    "            if amount % 1 != 0:\n",
    "                self.symbol=symbol\n",
    "                self.randomprice= random.uniform(0.9, 1.2)\n",
    "                self.balance += (amount*self.randomprice)\n",
    "                self.hist.append(\"You sold the Mutual Fund\"+ \" \" + self.symbol +  \" \" +\"for\" + \" \" + f\"${self.randomprice}/share\")\n",
    "            else:\n",
    "                print(\"Please, enter the share of units\")\n",
    "        except TypeError:\n",
    "            print(\"Please, enter first the mutual fund's name followed by the amount\")\n",
    "\n",
    "    #Creates an instance methods to  list purchases\n",
    "    def __str__(self): # Print method  \n",
    "        # print the title of the bill\n",
    "        return \"(%s, %s,%s,%s,%s,%s,%s,%s)\"%(\"Cash:\",self.balance,\"\\n\", \"Stocks:\",self.stocks,\"\\n\", \"Mutual Funds:\", self.mutualfunds)\n",
    "\n",
    "    def history(self):\n",
    "         return self.hist\n",
    "\n",
    "    \n",
    "        \n",
    "#Class stock receives data about sotck prices and symbol\n",
    "class Stock:\n",
    "    def __init__(self, price, symbol):\n",
    "        self.price = price\n",
    "        self.symbol= symbol\n",
    "        self.totalstck=0\n",
    "\n",
    "#Class mutual funds receives data about mutual funds symbol\n",
    "class MutualFund:\n",
    "    def __init__(self, symbolMF):\n",
    "        self.symbolMF= symbolMF\n",
    "        self.randomprice= random.uniform(0.9, 1.2)\n",
    "        self.totalmf=0\n",
    "\n",
    "        #print(self.symbolMF)\n",
    "\n"
   ]
  },
  {
   "cell_type": "code",
   "execution_count": 363,
   "metadata": {},
   "outputs": [
    {
     "name": "stdout",
     "output_type": "stream",
     "text": [
      "(Cash:, 2188.747104348309,\n",
      ",Stocks:,['5HFH'],\n",
      ",Mutual Funds:,['10.3BRT'])\n"
     ]
    },
    {
     "data": {
      "text/plain": [
       "['You added $300.5 to your balance',\n",
       " 'You added $2000 to your balance',\n",
       " 'You added to your portfolio the stock HFH for $20/share',\n",
       " 'You added to your portfolio the Mutual Fund BRT for $1.14105783026125/share',\n",
       " 'You sold the Mutual Fund BRT for $1.0140349770482429/share',\n",
       " 'You withdraw $50 from your balance']"
      ]
     },
     "execution_count": 363,
     "metadata": {},
     "output_type": "execute_result"
    }
   ],
   "source": [
    "# Testing the program\n",
    "portfolio = Portfolio() #Creates a new portfolio\n",
    "portfolio.addCash(300.50) #Adds cash to the portfolio \n",
    "portfolio.addCash(2000) #Adds cash to the portfolio\n",
    "s = Stock(20, \"HFH\") #Create Stock with price 20 and symbol \"HFH\" \n",
    "portfolio.buyStock(5, s) #Buys 5 shares of stock s\n",
    "mf1 = MutualFund(\"BRT\") #Create MF with symbol \"BRT\" \n",
    "mf2 = MutualFund(\"GHT\") #Create MF with symbol \"GHT\"\n",
    "portfolio.buyMutualFund(10.3, mf1) #Buys 10.3 shares of \"BRT\"\n",
    "print(portfolio) #Prints portfolio\n",
    "# #cash: $140.50\n",
    "# #stock: 5 HFH\n",
    "# # mutual funds: 10.33 BRT\n",
    "# #               2 GHT\n",
    "portfolio.sellMutualFund(\"BRT\", 3.01) #Sells 3 shares of BRT -done\n",
    "portfolio.withdrawCash(50) #Removes $50 \n",
    "portfolio.history() #Prints a list of all transactions\n",
    "\n"
   ]
  },
  {
   "cell_type": "code",
   "execution_count": 361,
   "metadata": {},
   "outputs": [
    {
     "name": "stdout",
     "output_type": "stream",
     "text": [
      "Please, enter the number of whole units\n",
      "Please, enter the share of units\n",
      "(Cash:, 291.10474993853023,\n",
      ",Stocks:,[],\n",
      ",Mutual Funds:,['10.3BRT'])\n",
      "Please, enter the share of units\n",
      "No enough balance\n"
     ]
    },
    {
     "data": {
      "text/plain": [
       "['You added $300.5 to your balance',\n",
       " 'You added $0.5 to your balance',\n",
       " 'You added to your portfolio the Mutual Fund BRT for $0.9607038894630845/share',\n",
       " 'You sold the stock HFH for $0.8939080106708954/share']"
      ]
     },
     "execution_count": 361,
     "metadata": {},
     "output_type": "execute_result"
    }
   ],
   "source": [
    "# Testing errors messages\n",
    "portfolio = Portfolio() \n",
    "portfolio.addCash(300.50) \n",
    "portfolio.addCash(0.50) \n",
    "s = Stock(20, \"HFH\") \n",
    "portfolio.buyStock(5.5, s) #Not an interger\n",
    "mf1 = MutualFund(\"BRT\") \n",
    "mf2 = MutualFund(\"GHT\") \n",
    "portfolio.buyMutualFund(10.3, mf1) \n",
    "portfolio.buyMutualFund(2, mf2) # Not a float\n",
    "print(portfolio) \n",
    "portfolio.sellMutualFund(\"BRT\", 3) #Not a float\n",
    "portfolio.sellStock(\"HFH\",1) #Sells 1 share of HFH -done\n",
    "portfolio.withdrawCash(500000)  # no money\n",
    "portfolio.history() "
   ]
  },
  {
   "cell_type": "markdown",
   "metadata": {},
   "source": [
    "##Notes\n",
    "\n",
    "Ideally I would account for sales and purchases regarding stocks and mutual funds, but I couldnt figure out how to solve the proble that the inputs for \"buy\" functions are different from \"sell\" functions. Therefore I could not refer to any of my classes stock and MF when creating the methods \"sell\". \n",
    "\n",
    "Then I removed the part that checks if there is enough stock and enough mfs before sell them. I also removed the part that update the amount of stocks and mfs, such that I'm printing just the amount purchased; \n",
    "\n",
    "Solution to be developed in the future"
   ]
  }
 ],
 "metadata": {
  "kernelspec": {
   "display_name": "Python 3",
   "language": "python",
   "name": "python3"
  },
  "language_info": {
   "codemirror_mode": {
    "name": "ipython",
    "version": 3
   },
   "file_extension": ".py",
   "mimetype": "text/x-python",
   "name": "python",
   "nbconvert_exporter": "python",
   "pygments_lexer": "ipython3",
   "version": "3.11.4"
  },
  "orig_nbformat": 4
 },
 "nbformat": 4,
 "nbformat_minor": 2
}
