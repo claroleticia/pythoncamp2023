{
 "cells": [
  {
   "cell_type": "markdown",
   "metadata": {},
   "source": [
    "#### Day 4: Web Scraping + File I/O\n",
    "\n",
    "Instructions: \n",
    "\n",
    "1. Go to https://polisci.wustl.edu/people/88/all OR https://polisci.wustl.edu/people/list/88/all\n",
    "2. Go to the page for each of the professors.\n",
    "3. Create a `.csv`` file with the following information for each professor:\n",
    "\t- Name\n",
    "\t- Title\n",
    "\t- E-mail\n",
    "\t- Web page\n",
    "\t- Specialization  \n",
    "\t\t- If they do not have a specialization, you can leave it blank. \n",
    "\t\t- An example from Deniz's page: https://polisci.wustl.edu/people/deniz-aksoy\n",
    "\t\t- Professor Aksoy’s research is motivated by an interest in comparative political institutions and political violence. "
   ]
  },
  {
   "cell_type": "code",
   "execution_count": 8,
   "metadata": {},
   "outputs": [],
   "source": [
    "from bs4 import BeautifulSoup\n",
    "import urllib\n",
    "import csv\n",
    "import time\n",
    "import random\n",
    "import os"
   ]
  },
  {
   "cell_type": "code",
   "execution_count": 13,
   "metadata": {},
   "outputs": [],
   "source": [
    "# pwd\n",
    "os.chdir('/Users/maria/Documents/GitHub/pythoncamp2023/Day04/Lab/lab4')"
   ]
  },
  {
   "cell_type": "code",
   "execution_count": 26,
   "metadata": {},
   "outputs": [],
   "source": [
    "#Go to the webpage\n",
    "with open('polsci_faculty.csv', 'w') as f: # set up with the writer\n",
    "  w = csv.DictWriter(f, fieldnames = (\"name\", \"title\", \"email\",\"webpage\",\"specialization\")) # define column names\n",
    "  web_address = \"https://polisci.wustl.edu/people/list/88/all\"\n",
    "  web_page = urllib.request.urlopen(web_address) ## Use a crawler to get all pages for MPs\n",
    "  soup = BeautifulSoup(web_page.read()) # Parse the HTML\n",
    "  all_members = soup.find_all('a') # maps all urls\n",
    "  #all_members\n",
    "  #for i in range(1, len(all_members)):\n",
    "  for i in range(1, 3):\n",
    "    try:\n",
    "       faculty ={}## empty dictionary to fill in\n",
    "       faculty_i = all_members[i].find_all('h3') # subset lower to each individual item\n",
    "       faculty[\"name\"] = faculty_i[0].text # professor's name\n",
    "#       faculty[\"title\"] = faculty_i[0].text # professor's name\n",
    "    except:\n",
    "       faculty['name'] = 'NA'\n",
    "#       faculty['title'] = 'NA'\n",
    "    w.writerow(faculty) # write the row for this specific member\n",
    "    time.sleep(random.uniform(1, 5)) # be polite, sleep!      \n",
    "\n",
    "\n"
   ]
  },
  {
   "cell_type": "code",
   "execution_count": null,
   "metadata": {},
   "outputs": [],
   "source": [
    "  w = csv.DictWriter(f, fieldnames = (\"name\", \"title\", \"email\",\"webpage\",\"specialization\")) # define column names\n",
    "  web_address = \"https://polisci.wustl.edu/people/list/88/all\"\n",
    "  web_page = urllib.request.urlopen(web_address) ## Use a crawler to get all pages for MPs\n",
    "  soup = BeautifulSoup(web_page.read()) # Parse the HTML\n",
    "  all_members = soup.find_all('a') # maps all urls\n",
    "  #all_members"
   ]
  }
 ],
 "metadata": {
  "kernelspec": {
   "display_name": "base",
   "language": "python",
   "name": "python3"
  },
  "language_info": {
   "codemirror_mode": {
    "name": "ipython",
    "version": 3
   },
   "file_extension": ".py",
   "mimetype": "text/x-python",
   "name": "python",
   "nbconvert_exporter": "python",
   "pygments_lexer": "ipython3",
   "version": "3.11.4"
  },
  "orig_nbformat": 4
 },
 "nbformat": 4,
 "nbformat_minor": 2
}
