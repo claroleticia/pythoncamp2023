{
 "cells": [
  {
   "cell_type": "markdown",
   "metadata": {},
   "source": [
    "#### Day 4: Web Scraping + File I/O\n",
    "\n",
    "Instructions: \n",
    "\n",
    "1. Go to https://polisci.wustl.edu/people/88/all OR https://polisci.wustl.edu/people/list/88/all\n",
    "2. Go to the page for each of the professors.\n",
    "3. Create a `.csv`` file with the following information for each professor:\n",
    "\t- Name\n",
    "\t- Title\n",
    "\t- E-mail\n",
    "\t- Web page\n",
    "\t- Specialization  \n",
    "\t\t- If they do not have a specialization, you can leave it blank. \n",
    "\t\t- An example from Deniz's page: https://polisci.wustl.edu/people/deniz-aksoy\n",
    "\t\t- Professor Aksoy’s research is motivated by an interest in comparative political institutions and political violence. "
   ]
  },
  {
   "cell_type": "code",
   "execution_count": 38,
   "metadata": {},
   "outputs": [],
   "source": [
    "from bs4 import BeautifulSoup\n",
    "import urllib\n",
    "import csv\n",
    "import time\n",
    "import os\n",
    "import random"
   ]
  },
  {
   "cell_type": "code",
   "execution_count": 2,
   "metadata": {},
   "outputs": [],
   "source": [
    "os.chdir(\"/Users/maria/Documents/GitHub/pythoncamp2023/Day04/Lab/lab4\")"
   ]
  },
  {
   "cell_type": "code",
   "execution_count": 67,
   "metadata": {},
   "outputs": [
    {
     "name": "stdout",
     "output_type": "stream",
     "text": [
      "{}\n",
      "{'name': 'Deniz Aksoy', 'title': 'Associate Professor of Political Science', 'email': 'denizaksoy@wustl.edu', 'webpage': 'https://sites.wustl.edu/denizaksoy/', 'specialization': 'Professor Aksoy’s research is motivated by an interest in comparative political institutions and political violence.\\xa0\\n'}\n",
      "{'name': 'Zoe Ang', 'title': 'LecturerUndergraduate Academic Coordinator ', 'email': 'zoeang@wustl.edu', 'webpage': 'https://sites.wustl.edu/denizaksoy/', 'specialization': 'Professor Aksoy’s research is motivated by an interest in comparative political institutions and political violence.\\xa0\\n'}\n",
      "{'name': 'Timm Betz', 'title': 'Assistant Professor of Political Science', 'email': 'betzt@wustl.edu', 'webpage': 'https://sites.wustl.edu/denizaksoy/', 'specialization': 'Professor Aksoy’s research is motivated by an interest in comparative political institutions and political violence.\\xa0\\n'}\n",
      "{'name': 'Zachary Bowersox', 'title': 'Lecturer in Political Science', 'email': 'bowersox@wustl.edu', 'webpage': 'https://zackbowersox.org/', 'specialization': ''}\n",
      "{'name': 'Daniel  Butler', 'title': 'Professor of Political Science', 'email': 'daniel.butler@wustl.edu', 'webpage': 'https://www.danielmarkbutler.com/', 'specialization': 'Dan Butler studies American Politics.\\xa0He focuses on questions related to representation and the behavior of elites and he primarily teaches courses in American politics.\\n'}\n",
      "{'name': 'Taylor Carlson', 'title': 'Associate Professor of Political ScienceWeidenbaum Center Director of Survey Research', 'email': 'tncarlson@wustl.edu', 'webpage': 'https://polisci.wustl.edu/files/polisci/tncarlsonCV.pdf', 'specialization': 'Professor Carlson studies American Politics with a focus on political communication and political psychology.\\n'}\n",
      "{'name': 'David Carter', 'title': 'Professor of Political Science', 'email': 'davidcarter@wustl.edu', 'webpage': 'https://sites.wustl.edu/davidcarter/', 'specialization': 'David Carter’s research is in the field of international relations, with a focus on interstate conflict substate political violence.\\xa0\\n'}\n"
     ]
    }
   ],
   "source": [
    "with open('polsci_page.csv','w') as f:\n",
    "    w = csv.DictWriter(f, fieldnames=(\"name\",\"title\",\"email\",\"webpage\",\"specialization\")) # define the columns name\n",
    "    w.writeheader()\n",
    "    web_address=\"https://polisci.wustl.edu/people/list/88/all\"\n",
    "    web_aux=\"https://polisci.wustl.edu\"\n",
    "    web_page = urllib.request.urlopen(web_address) \n",
    "    soup = BeautifulSoup(web_page.read())\n",
    "    all_faculty = soup.find_all('h3')\n",
    "    faculty ={}\n",
    "    for i in range(2,10):\n",
    "        print(faculty)\n",
    "        try:\n",
    "            faculty_i = all_faculty[i].find_all('a')\n",
    "            faculty[\"name\"] = faculty_i[0].text\n",
    "            inner_page_url= web_aux  + faculty_i[0].attrs['href']\n",
    "            inner_page = urllib.request.urlopen(inner_page_url)\n",
    "            inner_soup = BeautifulSoup(inner_page.read())\n",
    "            faculty[\"title\"] = inner_soup.find('div', {'class':'title'}).text\n",
    "            faculty[\"email\"] = inner_soup.find('ul', {'class':'detail contact'}).find('a').text\n",
    "            faculty[\"webpage\"] = inner_soup.find('ul', {'class':'links'}).find('a').attrs['href']\n",
    "            faculty[\"specialization\"] = inner_soup.find('div', {'class':'post-excerpt'}).text\n",
    "            w.writerow(faculty)\n",
    "            time.sleep(random.uniform(1,5))\n",
    "        except:\n",
    "            pass\n",
    "            # faculty[\"name\"] = 'NA'\n",
    "            # faculty[\"title\"] = 'NA'\n",
    "            # faculty[\"email\"] = 'NA'\n",
    "            # faculty[\"webpage\"] = 'NA'\n",
    "            # faculty[\"specialization\"] = 'NA'\n",
    "           \n",
    "\n",
    "\n",
    "#inner_page_url \n",
    "# for i in range(2:5):\n",
    "#     try:\n",
    "#         faculty ={}\n",
    "#         faculty_i = all_faculty[i].find_all('a')\n",
    "\n",
    "        \n",
    "\n",
    "\n",
    "\n"
   ]
  },
  {
   "cell_type": "code",
   "execution_count": 52,
   "metadata": {},
   "outputs": [
    {
     "data": {
      "text/plain": [
       "{'name': 'Dino P. Christenson',\n",
       " 'title': 'Professor of Political ScienceDirector of the Environmental Policy Major'}"
      ]
     },
     "execution_count": 52,
     "metadata": {},
     "output_type": "execute_result"
    }
   ],
   "source": [
    "faculty"
   ]
  },
  {
   "cell_type": "code",
   "execution_count": 50,
   "metadata": {},
   "outputs": [],
   "source": [
    "web_address=\"https://polisci.wustl.edu/people/list/88/all\"\n",
    "web_aux=\"https://polisci.wustl.edu\"\n",
    "web_page = urllib.request.urlopen(web_address) \n",
    "soup = BeautifulSoup(web_page.read())\n",
    "all_faculty = soup.find_all('h3')\n",
    "faculty ={}\n",
    "    #all_faculty[2]\n",
    "for i in range(2,10):\n",
    "    try:\n",
    "        faculty_i = all_faculty[i].find_all('a')\n",
    "        faculty[\"name\"] = faculty_i[0].text\n",
    "        inner_page_url= web_aux  + faculty_i[0].attrs['href']\n",
    "        inner_page = urllib.request.urlopen(inner_page_url)\n",
    "        inner_soup = BeautifulSoup(inner_page.read())\n",
    "        faculty[\"title\"] = inner_soup.find('div', {'class':'title'}).text\n",
    "        # faculty[\"email\"] = inner_soup.find('ul', {'class':'detail contact'}).find('a').text\n",
    "        # faculty[\"webpage\"] = inner_soup.find('ul', {'class':'links'}).find('a').attrs['href']\n",
    "        # faculty[\"specialization\"] = inner_soup.find('div', {'class':'post-excerpt'}).text\n",
    "    except:\n",
    "        faculty[\"name\"] = 'NA'\n",
    "        faculty[\"title\"] = 'NA'\n",
    "        # faculty[\"email\"] = 'NA'\n",
    "        # faculty[\"webpage\"] = 'NA'\n",
    "        # faculty[\"specialization\"] = 'NA'"
   ]
  },
  {
   "cell_type": "code",
   "execution_count": 51,
   "metadata": {},
   "outputs": [
    {
     "data": {
      "text/plain": [
       "{'name': 'Dino P. Christenson',\n",
       " 'title': 'Professor of Political ScienceDirector of the Environmental Policy Major'}"
      ]
     },
     "execution_count": 51,
     "metadata": {},
     "output_type": "execute_result"
    }
   ],
   "source": [
    "faculty"
   ]
  }
 ],
 "metadata": {
  "kernelspec": {
   "display_name": "base",
   "language": "python",
   "name": "python3"
  },
  "language_info": {
   "codemirror_mode": {
    "name": "ipython",
    "version": 3
   },
   "file_extension": ".py",
   "mimetype": "text/x-python",
   "name": "python",
   "nbconvert_exporter": "python",
   "pygments_lexer": "ipython3",
   "version": "3.11.4"
  },
  "orig_nbformat": 4
 },
 "nbformat": 4,
 "nbformat_minor": 2
}
